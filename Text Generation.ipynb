{
 "cells": [
  {
   "cell_type": "markdown",
   "metadata": {},
   "source": [
    "https://medium.com/@shivambansal36/language-modelling-text-generation-using-lstms-deep-learning-for-nlp-ed36b224b275"
   ]
  },
  {
   "cell_type": "code",
   "execution_count": 4,
   "metadata": {},
   "outputs": [],
   "source": [
    "from keras.preprocessing.text import Tokenizer\n",
    "from keras.preprocessing.sequence import pad_sequences\n",
    "from keras.layers import Embedding, LSTM, Dense, Dropout\n",
    "from keras.models import Sequential\n",
    "from keras.callbacks import EarlyStopping\n",
    "import keras.utils as ku\n",
    "import numpy as np"
   ]
  },
  {
   "cell_type": "code",
   "execution_count": 6,
   "metadata": {
    "collapsed": true
   },
   "outputs": [],
   "source": [
    "tokenizer = Tokenizer()"
   ]
  },
  {
   "cell_type": "code",
   "execution_count": 9,
   "metadata": {
    "collapsed": true
   },
   "outputs": [],
   "source": [
    "data = open('data.txt').read()"
   ]
  },
  {
   "cell_type": "code",
   "execution_count": 39,
   "metadata": {},
   "outputs": [],
   "source": [
    "def dataset_preparation(data):\n",
    "    \n",
    "    # basic cleanup\n",
    "    corpus = data.lower().split('\\n')\n",
    "\n",
    "    # tokenization\n",
    "    tokenizer.fit_on_texts(corpus)\n",
    "    total_words = len(tokenizer.word_index) + 1\n",
    "\n",
    "    # create input sequences using list of tokens\n",
    "    input_sequences = []\n",
    "\n",
    "    for line in corpus:\n",
    "        token_list = tokenizer.texts_to_sequences([line])[0]\n",
    "\n",
    "        for i in range(1, len(token_list)):\n",
    "            n_gram_sequence = token_list[:i+1]\n",
    "            input_sequences.append(n_gram_sequence)\n",
    "\n",
    "    # pad sequences\n",
    "    max_sequence_len = max([len(x) for x in input_sequences])\n",
    "    input_sequences = np.array(pad_sequences(input_sequences, maxlen=max_sequence_len, padding='pre'))\n",
    "\n",
    "    # create predictors and label\n",
    "    predictors, label = input_sequences[:, :-1], input_sequences[:,-1]\n",
    "    label = ku.to_categorical(label, num_classes=total_words)\n",
    "\n",
    "    return predictors, label, max_sequence_len, total_words"
   ]
  },
  {
   "cell_type": "code",
   "execution_count": 40,
   "metadata": {},
   "outputs": [],
   "source": [
    "def create_model(predictors, label, max_sequence_len, total_words):\n",
    "    \n",
    "    model = Sequential()\n",
    "    model.add(Embedding(total_words, 10, input_length=max_sequence_len-1))\n",
    "    model.add(LSTM(150, return_sequences=True))\n",
    "    model.add(LSTM(100))\n",
    "    model.add(Dense(total_words, activation='softmax'))\n",
    "\n",
    "    model.compile(loss='categorical_crossentropy', optimizer='adam', metrics=['accuracy'])\n",
    "    # earlystop = EarlyStopping(monitor='val_loss', min_delta=0, patience=5, verbose=0, mode='auto')\n",
    "\n",
    "    model.fit(predictors, label, epochs=100, verbose=1, callbacks=[earlystop])\n",
    "    print(model.summary)\n",
    "    return model"
   ]
  },
  {
   "cell_type": "code",
   "execution_count": 37,
   "metadata": {},
   "outputs": [],
   "source": [
    "def generate_text(seed_text, next_words, max_sequence_len):\n",
    "\n",
    "    for _ in range(next_words):\n",
    "        token_list = tokenizer.texts_to_sequences([seed_text])[0]\n",
    "        token_list = pad_sequences([token_list], maxlen=max_sequence_len-1, padding='pre')\n",
    "        predicted = model.predict_classes(token_list, verbose=0)\n",
    "        \n",
    "        output_word = \"\"\n",
    "        for word, index in tokenizer.word_index.items():\n",
    "            if index == predicted:\n",
    "                output_word = word\n",
    "                break\n",
    "        seed_text += \" \" + output_word\n",
    "    \n",
    "    return seed_text"
   ]
  },
  {
   "cell_type": "code",
   "execution_count": 41,
   "metadata": {
    "collapsed": true
   },
   "outputs": [],
   "source": [
    "data = open('data.txt').read()"
   ]
  },
  {
   "cell_type": "code",
   "execution_count": 43,
   "metadata": {},
   "outputs": [
    {
     "name": "stdout",
     "output_type": "stream",
     "text": [
      "Epoch 1/100\n",
      "48/48 [==============================] - 3s 61ms/step - loss: 3.7620 - acc: 0.0000e+00\n",
      "Epoch 2/100\n",
      "48/48 [==============================] - 0s 2ms/step - loss: 3.7588 - acc: 0.0625\n",
      "Epoch 3/100\n",
      "48/48 [==============================] - 0s 2ms/step - loss: 3.7558 - acc: 0.0625\n"
     ]
    },
    {
     "name": "stderr",
     "output_type": "stream",
     "text": [
      "C:\\Users\\Sony\\Anaconda3\\lib\\site-packages\\keras\\callbacks.py:494: RuntimeWarning: Early stopping conditioned on metric `val_loss` which is not available. Available metrics are: loss,acc\n",
      "  (self.monitor, ','.join(list(logs.keys()))), RuntimeWarning\n"
     ]
    },
    {
     "name": "stdout",
     "output_type": "stream",
     "text": [
      "Epoch 4/100\n",
      "48/48 [==============================] - 0s 2ms/step - loss: 3.7534 - acc: 0.0625\n",
      "Epoch 5/100\n",
      "48/48 [==============================] - 0s 2ms/step - loss: 3.7496 - acc: 0.0625\n",
      "Epoch 6/100\n",
      "48/48 [==============================] - 0s 1ms/step - loss: 3.7450 - acc: 0.0625\n",
      "Epoch 7/100\n",
      "48/48 [==============================] - 0s 2ms/step - loss: 3.7385 - acc: 0.0625\n",
      "Epoch 8/100\n",
      "48/48 [==============================] - 0s 2ms/step - loss: 3.7308 - acc: 0.0625\n",
      "Epoch 9/100\n",
      "48/48 [==============================] - 0s 1ms/step - loss: 3.7179 - acc: 0.0625\n",
      "Epoch 10/100\n",
      "48/48 [==============================] - 0s 2ms/step - loss: 3.7014 - acc: 0.0625\n",
      "Epoch 11/100\n",
      "48/48 [==============================] - 0s 2ms/step - loss: 3.6768 - acc: 0.0625\n",
      "Epoch 12/100\n",
      "48/48 [==============================] - 0s 2ms/step - loss: 3.6590 - acc: 0.0625\n",
      "Epoch 13/100\n",
      "48/48 [==============================] - 0s 2ms/step - loss: 3.6331 - acc: 0.0625\n",
      "Epoch 14/100\n",
      "48/48 [==============================] - 0s 2ms/step - loss: 3.6332 - acc: 0.0625\n",
      "Epoch 15/100\n",
      "48/48 [==============================] - 0s 1ms/step - loss: 3.6291 - acc: 0.0625\n",
      "Epoch 16/100\n",
      "48/48 [==============================] - 0s 2ms/step - loss: 3.6179 - acc: 0.0625\n",
      "Epoch 17/100\n",
      "48/48 [==============================] - 0s 1ms/step - loss: 3.6104 - acc: 0.0417\n",
      "Epoch 18/100\n",
      "48/48 [==============================] - 0s 1ms/step - loss: 3.6047 - acc: 0.0625\n",
      "Epoch 19/100\n",
      "48/48 [==============================] - 0s 2ms/step - loss: 3.6038 - acc: 0.0625\n",
      "Epoch 20/100\n",
      "48/48 [==============================] - 0s 2ms/step - loss: 3.5996 - acc: 0.0625\n",
      "Epoch 21/100\n",
      "48/48 [==============================] - 0s 2ms/step - loss: 3.5928 - acc: 0.0625\n",
      "Epoch 22/100\n",
      "48/48 [==============================] - 0s 1ms/step - loss: 3.5856 - acc: 0.0833\n",
      "Epoch 23/100\n",
      "48/48 [==============================] - 0s 1ms/step - loss: 3.5812 - acc: 0.0625\n",
      "Epoch 24/100\n",
      "48/48 [==============================] - 0s 2ms/step - loss: 3.5810 - acc: 0.0625\n",
      "Epoch 25/100\n",
      "48/48 [==============================] - ETA: 0s - loss: 3.5701 - acc: 0.031 - 0s 2ms/step - loss: 3.5838 - acc: 0.0625\n",
      "Epoch 26/100\n",
      "48/48 [==============================] - 0s 2ms/step - loss: 3.5814 - acc: 0.0625\n",
      "Epoch 27/100\n",
      "48/48 [==============================] - 0s 1ms/step - loss: 3.5756 - acc: 0.0625\n",
      "Epoch 28/100\n",
      "48/48 [==============================] - 0s 2ms/step - loss: 3.5652 - acc: 0.0625\n",
      "Epoch 29/100\n",
      "48/48 [==============================] - 0s 2ms/step - loss: 3.5617 - acc: 0.0625\n",
      "Epoch 30/100\n",
      "48/48 [==============================] - 0s 1ms/step - loss: 3.5550 - acc: 0.0625\n",
      "Epoch 31/100\n",
      "48/48 [==============================] - 0s 2ms/step - loss: 3.5522 - acc: 0.0625\n",
      "Epoch 32/100\n",
      "48/48 [==============================] - 0s 2ms/step - loss: 3.5469 - acc: 0.0625\n",
      "Epoch 33/100\n",
      "48/48 [==============================] - 0s 2ms/step - loss: 3.5393 - acc: 0.0833\n",
      "Epoch 34/100\n",
      "48/48 [==============================] - 0s 1ms/step - loss: 3.5311 - acc: 0.0833\n",
      "Epoch 35/100\n",
      "48/48 [==============================] - 0s 1ms/step - loss: 3.5209 - acc: 0.0833\n",
      "Epoch 36/100\n",
      "48/48 [==============================] - 0s 1ms/step - loss: 3.5094 - acc: 0.0833\n",
      "Epoch 37/100\n",
      "48/48 [==============================] - 0s 2ms/step - loss: 3.4956 - acc: 0.0833\n",
      "Epoch 38/100\n",
      "48/48 [==============================] - 0s 1ms/step - loss: 3.4709 - acc: 0.0833\n",
      "Epoch 39/100\n",
      "48/48 [==============================] - 0s 2ms/step - loss: 3.4500 - acc: 0.1042\n",
      "Epoch 40/100\n",
      "48/48 [==============================] - 0s 2ms/step - loss: 3.4325 - acc: 0.1042\n",
      "Epoch 41/100\n",
      "48/48 [==============================] - 0s 2ms/step - loss: 3.4076 - acc: 0.1250\n",
      "Epoch 42/100\n",
      "48/48 [==============================] - 0s 1ms/step - loss: 3.3784 - acc: 0.1042\n",
      "Epoch 43/100\n",
      "48/48 [==============================] - 0s 2ms/step - loss: 3.3527 - acc: 0.1042\n",
      "Epoch 44/100\n",
      "48/48 [==============================] - 0s 1ms/step - loss: 3.3219 - acc: 0.1250\n",
      "Epoch 45/100\n",
      "48/48 [==============================] - 0s 2ms/step - loss: 3.3038 - acc: 0.1042\n",
      "Epoch 46/100\n",
      "48/48 [==============================] - 0s 1ms/step - loss: 3.2705 - acc: 0.1042\n",
      "Epoch 47/100\n",
      "48/48 [==============================] - 0s 1ms/step - loss: 3.2547 - acc: 0.1042\n",
      "Epoch 48/100\n",
      "48/48 [==============================] - 0s 1ms/step - loss: 3.1972 - acc: 0.1250\n",
      "Epoch 49/100\n",
      "48/48 [==============================] - 0s 1ms/step - loss: 3.1687 - acc: 0.1250\n",
      "Epoch 50/100\n",
      "48/48 [==============================] - 0s 1ms/step - loss: 3.1138 - acc: 0.1250\n",
      "Epoch 51/100\n",
      "48/48 [==============================] - 0s 1ms/step - loss: 3.0579 - acc: 0.1875\n",
      "Epoch 52/100\n",
      "48/48 [==============================] - 0s 1ms/step - loss: 3.0107 - acc: 0.1667\n",
      "Epoch 53/100\n",
      "48/48 [==============================] - 0s 1ms/step - loss: 2.9723 - acc: 0.2500\n",
      "Epoch 54/100\n",
      "48/48 [==============================] - 0s 2ms/step - loss: 2.9473 - acc: 0.2292\n",
      "Epoch 55/100\n",
      "48/48 [==============================] - 0s 1ms/step - loss: 2.9350 - acc: 0.2083\n",
      "Epoch 56/100\n",
      "48/48 [==============================] - 0s 1ms/step - loss: 2.9104 - acc: 0.2083\n",
      "Epoch 57/100\n",
      "48/48 [==============================] - 0s 1ms/step - loss: 2.7747 - acc: 0.2292\n",
      "Epoch 58/100\n",
      "48/48 [==============================] - 0s 1ms/step - loss: 2.8500 - acc: 0.2083\n",
      "Epoch 59/100\n",
      "48/48 [==============================] - 0s 1ms/step - loss: 2.7484 - acc: 0.2500\n",
      "Epoch 60/100\n",
      "48/48 [==============================] - 0s 1ms/step - loss: 2.7741 - acc: 0.2292\n",
      "Epoch 61/100\n",
      "48/48 [==============================] - 0s 2ms/step - loss: 2.6864 - acc: 0.2292\n",
      "Epoch 62/100\n",
      "48/48 [==============================] - 0s 2ms/step - loss: 2.6358 - acc: 0.2708\n",
      "Epoch 63/100\n",
      "48/48 [==============================] - 0s 1ms/step - loss: 2.6040 - acc: 0.2500\n",
      "Epoch 64/100\n",
      "48/48 [==============================] - 0s 1ms/step - loss: 2.5527 - acc: 0.3125\n",
      "Epoch 65/100\n",
      "48/48 [==============================] - 0s 1ms/step - loss: 2.5465 - acc: 0.2917\n",
      "Epoch 66/100\n",
      "48/48 [==============================] - 0s 2ms/step - loss: 2.4980 - acc: 0.3125\n",
      "Epoch 67/100\n",
      "48/48 [==============================] - 0s 1ms/step - loss: 2.4712 - acc: 0.3125\n",
      "Epoch 68/100\n",
      "48/48 [==============================] - 0s 1ms/step - loss: 2.4204 - acc: 0.3125\n",
      "Epoch 69/100\n",
      "48/48 [==============================] - 0s 1ms/step - loss: 2.4216 - acc: 0.3958\n",
      "Epoch 70/100\n",
      "48/48 [==============================] - 0s 1ms/step - loss: 2.3665 - acc: 0.3750\n",
      "Epoch 71/100\n",
      "48/48 [==============================] - 0s 1ms/step - loss: 2.3453 - acc: 0.3542\n",
      "Epoch 72/100\n",
      "48/48 [==============================] - 0s 1ms/step - loss: 2.2968 - acc: 0.3750\n",
      "Epoch 73/100\n",
      "48/48 [==============================] - 0s 1ms/step - loss: 2.2861 - acc: 0.3958\n",
      "Epoch 74/100\n",
      "48/48 [==============================] - 0s 1ms/step - loss: 2.2530 - acc: 0.3750\n",
      "Epoch 75/100\n",
      "48/48 [==============================] - 0s 1ms/step - loss: 2.2132 - acc: 0.3958\n",
      "Epoch 76/100\n",
      "48/48 [==============================] - 0s 1ms/step - loss: 2.1739 - acc: 0.4375\n",
      "Epoch 77/100\n",
      "48/48 [==============================] - 0s 1ms/step - loss: 2.1620 - acc: 0.4167\n",
      "Epoch 78/100\n",
      "48/48 [==============================] - 0s 1ms/step - loss: 2.1296 - acc: 0.4583\n",
      "Epoch 79/100\n",
      "48/48 [==============================] - 0s 2ms/step - loss: 2.1214 - acc: 0.4167\n",
      "Epoch 80/100\n",
      "48/48 [==============================] - 0s 1ms/step - loss: 2.0772 - acc: 0.4792\n",
      "Epoch 81/100\n",
      "48/48 [==============================] - 0s 2ms/step - loss: 2.0585 - acc: 0.4792\n",
      "Epoch 82/100\n",
      "48/48 [==============================] - 0s 1ms/step - loss: 2.0323 - acc: 0.4167\n",
      "Epoch 83/100\n",
      "48/48 [==============================] - 0s 2ms/step - loss: 2.0157 - acc: 0.4792\n",
      "Epoch 84/100\n",
      "48/48 [==============================] - 0s 2ms/step - loss: 2.0077 - acc: 0.3958\n",
      "Epoch 85/100\n",
      "48/48 [==============================] - 0s 1ms/step - loss: 1.9650 - acc: 0.4583\n",
      "Epoch 86/100\n",
      "48/48 [==============================] - 0s 1ms/step - loss: 1.9694 - acc: 0.4792\n",
      "Epoch 87/100\n",
      "48/48 [==============================] - 0s 1ms/step - loss: 1.9428 - acc: 0.4375\n",
      "Epoch 88/100\n",
      "48/48 [==============================] - 0s 1ms/step - loss: 1.9008 - acc: 0.5417\n",
      "Epoch 89/100\n"
     ]
    },
    {
     "name": "stdout",
     "output_type": "stream",
     "text": [
      "48/48 [==============================] - 0s 1ms/step - loss: 1.8993 - acc: 0.5417\n",
      "Epoch 90/100\n",
      "48/48 [==============================] - 0s 2ms/step - loss: 1.9187 - acc: 0.4792\n",
      "Epoch 91/100\n",
      "48/48 [==============================] - 0s 1ms/step - loss: 2.0666 - acc: 0.4167\n",
      "Epoch 92/100\n",
      "48/48 [==============================] - 0s 1ms/step - loss: 1.9868 - acc: 0.4375\n",
      "Epoch 93/100\n",
      "48/48 [==============================] - 0s 2ms/step - loss: 1.9657 - acc: 0.4375\n",
      "Epoch 94/100\n",
      "48/48 [==============================] - 0s 1ms/step - loss: 1.8749 - acc: 0.5208\n",
      "Epoch 95/100\n",
      "48/48 [==============================] - 0s 1ms/step - loss: 1.9496 - acc: 0.4792\n",
      "Epoch 96/100\n",
      "48/48 [==============================] - 0s 2ms/step - loss: 1.8704 - acc: 0.4792\n",
      "Epoch 97/100\n",
      "48/48 [==============================] - 0s 2ms/step - loss: 1.8103 - acc: 0.5208\n",
      "Epoch 98/100\n",
      "48/48 [==============================] - 0s 2ms/step - loss: 1.8717 - acc: 0.5000\n",
      "Epoch 99/100\n",
      "48/48 [==============================] - 0s 2ms/step - loss: 1.8011 - acc: 0.5208\n",
      "Epoch 100/100\n",
      "48/48 [==============================] - 0s 2ms/step - loss: 1.7973 - acc: 0.4792\n",
      "<bound method Container.summary of <keras.models.Sequential object at 0x000001D7FC2EBCF8>>\n",
      "we naughty their mittens mittens\n"
     ]
    }
   ],
   "source": [
    "predictors, label, max_sequence_len, total_words = dataset_preparation(data)\n",
    "model = create_model(predictors, label, max_sequence_len, total_words)\n",
    "print (generate_text(\"we naughty\", 3, max_sequence_len))"
   ]
  },
  {
   "cell_type": "code",
   "execution_count": 45,
   "metadata": {},
   "outputs": [
    {
     "data": {
      "text/plain": [
       "'cat and kittens kittens we'"
      ]
     },
     "execution_count": 45,
     "metadata": {},
     "output_type": "execute_result"
    }
   ],
   "source": [
    "generate_text(\"cat and\", 3, max_sequence_len)"
   ]
  },
  {
   "cell_type": "code",
   "execution_count": null,
   "metadata": {
    "collapsed": true
   },
   "outputs": [],
   "source": []
  }
 ],
 "metadata": {
  "kernelspec": {
   "display_name": "Python 3",
   "language": "python",
   "name": "python3"
  },
  "language_info": {
   "codemirror_mode": {
    "name": "ipython",
    "version": 3
   },
   "file_extension": ".py",
   "mimetype": "text/x-python",
   "name": "python",
   "nbconvert_exporter": "python",
   "pygments_lexer": "ipython3",
   "version": "3.6.3"
  }
 },
 "nbformat": 4,
 "nbformat_minor": 2
}
